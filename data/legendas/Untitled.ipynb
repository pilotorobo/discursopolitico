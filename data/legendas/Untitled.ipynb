{
 "cells": [
  {
   "cell_type": "code",
   "execution_count": 1,
   "metadata": {
    "collapsed": true
   },
   "outputs": [],
   "source": [
    "from unicodedata import normalize\n",
    "\n",
    "def remover_acentos(txt):\n",
    "    return normalize('NFKD', txt).encode('ASCII','ignore').decode('ASCII')"
   ]
  },
  {
   "cell_type": "code",
   "execution_count": 2,
   "metadata": {
    "collapsed": true
   },
   "outputs": [],
   "source": [
    "def rem_acentos(text):\n",
    "    text = text.replace(\"ó\", \"o\")\n",
    "    return text"
   ]
  },
  {
   "cell_type": "code",
   "execution_count": 3,
   "metadata": {
    "collapsed": true
   },
   "outputs": [],
   "source": [
    "import re\n",
    "\n",
    "def is_caption_timing(text):\n",
    "    return text.find(\"-->\") != -1\n",
    "\n",
    "def is_number(text):\n",
    "    try:\n",
    "        int(text)\n",
    "        return True\n",
    "    except:\n",
    "        return False\n",
    "    \n",
    "\n",
    "def cleanhtml(raw_html):\n",
    "  cleanr = re.compile('<.*?>')\n",
    "  cleantext = re.sub(cleanr, '', raw_html)\n",
    "  return cleantext\n",
    "\n",
    "def caption2text(caption_lines):\n",
    "    text = \"\"\n",
    "    for line in caption_lines:\n",
    "        if is_caption_timing(line) or is_number(line):\n",
    "            continue\n",
    "        \n",
    "        text += cleanhtml(line).replace(\"\\n\", \" \")\n",
    "        \n",
    "    return text\n",
    "        "
   ]
  },
  {
   "cell_type": "code",
   "execution_count": 8,
   "metadata": {
    "scrolled": true
   },
   "outputs": [
    {
     "data": {
      "text/plain": [
       "['[DownSub.com] BOLSONARO PRESIDENTE_ IMPERDÍVEL.srt',\n",
       " '[DownSub.com] Discurso de Jair Bolsonaro candidato à presidência da Câmara dos Deputados..srt',\n",
       " '[DownSub.com] O DIA EM QUE JAIR BOLSONARO TORTUROU O PT.srt',\n",
       " '[DownSub.com] O Melhor discurso de BOLSONARO até hoje!.srt',\n",
       " '[DownSub.com] 📢 Bolsonaro no PATRIOTA ▶ Veja o 1º Discurso ❗❗ (COMPLETO).srt']"
      ]
     },
     "execution_count": 8,
     "metadata": {},
     "output_type": "execute_result"
    }
   ],
   "source": [
    "from os import listdir\n",
    "from os.path import isfile, join\n",
    "mypath = \".\"\n",
    "onlyfiles = [f for f in listdir(mypath) if isfile(join(mypath, f)) and f.find(\".srt\") != -1]\n",
    "onlyfiles"
   ]
  },
  {
   "cell_type": "code",
   "execution_count": 9,
   "metadata": {},
   "outputs": [
    {
     "data": {
      "text/plain": [
       "['[DownSub.com] BOLSONARO PRESIDENTE_ IMPERDÍVEL.srt',\n",
       " '[DownSub.com] Discurso de Jair Bolsonaro candidato à presidência da Câmara dos Deputados..srt',\n",
       " '[DownSub.com] O DIA EM QUE JAIR BOLSONARO TORTUROU O PT.srt',\n",
       " '[DownSub.com] O Melhor discurso de BOLSONARO até hoje!.srt',\n",
       " '[DownSub.com] 📢 Bolsonaro no PATRIOTA ▶ Veja o 1º Discurso ❗❗ (COMPLETO).srt']"
      ]
     },
     "execution_count": 9,
     "metadata": {},
     "output_type": "execute_result"
    }
   ],
   "source": [
    "onlyfiles"
   ]
  },
  {
   "cell_type": "code",
   "execution_count": 11,
   "metadata": {},
   "outputs": [],
   "source": [
    "full_text = \"\"\n",
    "\n",
    "for fpath in onlyfiles:\n",
    "\n",
    "    with open(fpath, encoding=\"utf8\") as f:\n",
    "        lines = f.readlines()\n",
    "        text = caption2text(lines)\n",
    "        \n",
    "        full_text += text + \" \"\n",
    "            "
   ]
  },
  {
   "cell_type": "code",
   "execution_count": 14,
   "metadata": {},
   "outputs": [
    {
     "ename": "FileNotFoundError",
     "evalue": "[Errno 2] No such file or directory: 'fulltext.txt'",
     "output_type": "error",
     "traceback": [
      "\u001b[1;31m---------------------------------------------------------------------------\u001b[0m",
      "\u001b[1;31mFileNotFoundError\u001b[0m                         Traceback (most recent call last)",
      "\u001b[1;32m<ipython-input-14-4236846cd0c6>\u001b[0m in \u001b[0;36m<module>\u001b[1;34m()\u001b[0m\n\u001b[1;32m----> 1\u001b[1;33m \u001b[1;32mwith\u001b[0m \u001b[0mopen\u001b[0m\u001b[1;33m(\u001b[0m\u001b[1;34m\"fulltext.txt\"\u001b[0m\u001b[1;33m)\u001b[0m \u001b[1;32mas\u001b[0m \u001b[0mf\u001b[0m\u001b[1;33m:\u001b[0m\u001b[1;33m\u001b[0m\u001b[0m\n\u001b[0m\u001b[0;32m      2\u001b[0m     \u001b[0mf\u001b[0m\u001b[1;33m.\u001b[0m\u001b[0mwrite\u001b[0m\u001b[1;33m(\u001b[0m\u001b[0mfull_text\u001b[0m\u001b[1;33m)\u001b[0m\u001b[1;33m\u001b[0m\u001b[0m\n",
      "\u001b[1;31mFileNotFoundError\u001b[0m: [Errno 2] No such file or directory: 'fulltext.txt'"
     ]
    }
   ],
   "source": [
    "with open(\"fulltext.txt\", \"w\") as f:\n",
    "    f.write(full_text)"
   ]
  },
  {
   "cell_type": "code",
   "execution_count": null,
   "metadata": {
    "collapsed": true
   },
   "outputs": [],
   "source": []
  }
 ],
 "metadata": {
  "kernelspec": {
   "display_name": "Python 3",
   "language": "python",
   "name": "python3"
  },
  "language_info": {
   "codemirror_mode": {
    "name": "ipython",
    "version": 3
   },
   "file_extension": ".py",
   "mimetype": "text/x-python",
   "name": "python",
   "nbconvert_exporter": "python",
   "pygments_lexer": "ipython3",
   "version": "3.5.3"
  }
 },
 "nbformat": 4,
 "nbformat_minor": 2
}
